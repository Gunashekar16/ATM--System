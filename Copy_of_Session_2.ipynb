{
  "nbformat": 4,
  "nbformat_minor": 0,
  "metadata": {
    "colab": {
      "name": "Copy of Session 2",
      "provenance": [],
      "collapsed_sections": [],
      "authorship_tag": "ABX9TyOe/0GNkut5LZgFNTNHhHL2",
      "include_colab_link": true
    },
    "kernelspec": {
      "name": "python3",
      "display_name": "Python 3"
    },
    "language_info": {
      "name": "python"
    }
  },
  "cells": [
    {
      "cell_type": "markdown",
      "metadata": {
        "id": "view-in-github",
        "colab_type": "text"
      },
      "source": [
        "<a href=\"https://colab.research.google.com/github/Gunashekar16/ATM--System/blob/main/Copy_of_Session_2.ipynb\" target=\"_parent\"><img src=\"https://colab.research.google.com/assets/colab-badge.svg\" alt=\"Open In Colab\"/></a>"
      ]
    },
    {
      "cell_type": "markdown",
      "source": [
        "16. Write a Python program to compute the distance between the points (x1, y1)\n",
        "and (x2, y2)."
      ],
      "metadata": {
        "id": "2Dwi93nO_fG_"
      }
    },
    {
      "cell_type": "code",
      "execution_count": null,
      "metadata": {
        "colab": {
          "base_uri": "https://localhost:8080/"
        },
        "id": "dpWyZJ4l_WY-",
        "outputId": "3ff8f648-566f-4ebb-e994-04f13b9b4831"
      },
      "outputs": [
        {
          "output_type": "stream",
          "name": "stdout",
          "text": [
            "Enter x1 : 10\n",
            "Enter x2 : 20\n",
            "Enter y1 : 30\n",
            "Enter y2 : 40\n",
            "Distance Between (10, 20) and (30, 40) is :  14.142135623730951\n"
          ]
        }
      ],
      "source": [
        "x1=int(input(\"Enter x1 : \"))\n",
        "\n",
        "x2=int(input(\"Enter x2 : \"))\n",
        "\n",
        "y1=int(input(\"Enter y1 : \"))\n",
        "\n",
        "y2=int(input(\"Enter y2 : \"))\n",
        "\n",
        "result= ((((x2 - x1 )**2) + ((y2-y1)**2) )**0.5)\n",
        "\n",
        "print(\"Distance Between\",(x1,x2),\"and\",(y1,y2),\"is : \",result)"
      ]
    },
    {
      "cell_type": "markdown",
      "source": [
        "17. Write a Python program to count the number of each character of a given text\n",
        "\n"
      ],
      "metadata": {
        "id": "NAX5-IWpARj7"
      }
    },
    {
      "cell_type": "code",
      "source": [
        "def char_frequency(a):\n",
        "    dict = {}\n",
        "    for n in a:\n",
        "        keys = dict.keys()\n",
        "        if n in keys:\n",
        "            dict[n] += 1\n",
        "        else:\n",
        "            dict[n] = 1\n",
        "    return dict\n",
        "print(char_frequency(\"GUNA SHEKAR\"))\n"
      ],
      "metadata": {
        "colab": {
          "base_uri": "https://localhost:8080/"
        },
        "id": "N9TpUxyUAZb4",
        "outputId": "d2ed7593-2b73-4f65-eb5a-c333001db49e"
      },
      "execution_count": null,
      "outputs": [
        {
          "output_type": "stream",
          "name": "stdout",
          "text": [
            "{'G': 1, 'U': 1, 'N': 1, 'A': 2, ' ': 1, 'S': 1, 'H': 1, 'E': 1, 'K': 1, 'R': 1}\n"
          ]
        }
      ]
    },
    {
      "cell_type": "markdown",
      "source": [
        "18. Write a Python program that accept a positive number and subtract from this\n",
        "number the sum of its digits and so on. Continues this operation until the number is\n",
        "positive."
      ],
      "metadata": {
        "id": "_-ql7Nc9AlJf"
      }
    },
    {
      "cell_type": "code",
      "source": [
        "def repeat_times(n):\n",
        "  n_str = str(n)\n",
        "  while (n > 0):\n",
        "    n -= sum([int(i) for i in list(n_str)])\n",
        "    n_str = list(str(n))\n",
        "  return n\n",
        "print(repeat_times(9))\n",
        "print(repeat_times(20))\n",
        "print(repeat_times(110))\n",
        "print(repeat_times(5674))"
      ],
      "metadata": {
        "id": "YkTgjz_uAr7s",
        "colab": {
          "base_uri": "https://localhost:8080/"
        },
        "outputId": "8a3fcd06-2dcc-40a4-b293-c1d022fb34f5"
      },
      "execution_count": null,
      "outputs": [
        {
          "output_type": "stream",
          "name": "stdout",
          "text": [
            "0\n",
            "0\n",
            "0\n",
            "0\n"
          ]
        }
      ]
    },
    {
      "cell_type": "markdown",
      "source": [
        "19. Write a Python program to print the length of the series and the series from the\n",
        "given 3rd term, 3rd last term and the sum of a series.\n"
      ],
      "metadata": {
        "id": "ANLK_UW_D-fL"
      }
    },
    {
      "cell_type": "code",
      "source": [
        "tn = int(input(\"Input third term of the series:\"))\n",
        "tltn = int(input(\"Input 3rd last term:\"))\n",
        "s_sum = int(input(\"Sum of the series:\"))\n",
        "n = int(2*s_sum/(tn+tltn))\n",
        "print(\"Length of the series: \",n)\n",
        "\n",
        "\n",
        "if n-5==0:\n",
        "  d = (s_sum-3*tn)//6\n",
        "else:\n",
        "  d = (tltn-tn)/(n-5)\n",
        "\n",
        "a = tn-2*d\n",
        "j = 0\n",
        "print(\"Series:\")\n",
        "for j in range(n-1):\n",
        "  print(int(a),end=\" \")\n",
        "  a+=d\n",
        "print(int(a),end=\" \")"
      ],
      "metadata": {
        "colab": {
          "base_uri": "https://localhost:8080/"
        },
        "id": "Nq4ehvF3EKoL",
        "outputId": "fcc23d1b-5415-47e8-a503-c76e6e8431dd"
      },
      "execution_count": null,
      "outputs": [
        {
          "output_type": "stream",
          "name": "stdout",
          "text": [
            "Input third term of the series:5\n",
            "Input 3rd last term:5\n",
            "Sum of the series:10\n",
            "Length of the series:  2\n",
            "Series:\n",
            "5 5 "
          ]
        }
      ]
    }
  ]
}